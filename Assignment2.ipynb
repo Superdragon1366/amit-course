{
  "nbformat": 4,
  "nbformat_minor": 0,
  "metadata": {
    "colab": {
      "provenance": []
    },
    "kernelspec": {
      "name": "python3",
      "display_name": "Python 3"
    },
    "language_info": {
      "name": "python"
    }
  },
  "cells": [
    {
      "cell_type": "code",
      "source": [
        "#Question1part1\n",
        "Y=[]\n",
        "List_number=int(input(\"Enter The Size of the list: \"))\n",
        "for I in range(0,List_number):\n",
        " Z=int(input(\"Enter The Item: \"))\n",
        " Y.extend(Z)\n",
        "X=tuple(Y)\n",
        "print(X)"
      ],
      "metadata": {
        "colab": {
          "base_uri": "https://localhost:8080/"
        },
        "id": "0xNlgjruFsn8",
        "outputId": "179212b7-ea4b-42f5-8247-7ffe7e61f24e"
      },
      "execution_count": 2,
      "outputs": [
        {
          "output_type": "stream",
          "name": "stdout",
          "text": [
            "Enter The Size of the list: 3\n",
            "Enter The Item: 2\n",
            "Enter The Item: macro\n",
            "Enter The Item: Id\n",
            "('2', 'm', 'a', 'c', 'r', 'o', 'I', 'd')\n"
          ]
        }
      ]
    },
    {
      "cell_type": "code",
      "source": [
        "#Question2part1\n",
        "X=[]\n",
        "Sum=0\n",
        "List_number=int(input(\"Enter The Size of the list: \"))\n",
        "for I in range(0,List_number):\n",
        " Z=int(input(\"Enter The Item: \"))\n",
        " X.append(Z)\n",
        "for I2 in range(0,List_number):\n",
        "  Sum+=X[I2]\n",
        "print(\"The Sum of the list is :\",Sum)\n",
        "\n"
      ],
      "metadata": {
        "colab": {
          "base_uri": "https://localhost:8080/"
        },
        "id": "RUOAfCenGGkG",
        "outputId": "1a1841e2-3eae-4a0e-94c2-1f92b6ad9d9b"
      },
      "execution_count": 4,
      "outputs": [
        {
          "output_type": "stream",
          "name": "stdout",
          "text": [
            "Enter The Size of the list: 5\n",
            "Enter The Item: 2\n",
            "Enter The Item: 3\n",
            "Enter The Item: 5\n",
            "Enter The Item: 7\n",
            "Enter The Item: 10\n",
            "27\n"
          ]
        }
      ]
    },
    {
      "cell_type": "code",
      "source": [
        "#Question3part1\n",
        "X=[]\n",
        "Multiply=1\n",
        "List_number=int(input(\"Enter The Size of the list: \"))\n",
        "for I in range(0,List_number):\n",
        " Z=int(input(\"Enter The Item: \"))\n",
        " X.append(Z)\n",
        "for I2 in range(0,List_number):\n",
        "  Multiply*=X[I2]\n",
        "print(\"The Multiplication of the list is :\",Multiply)\n"
      ],
      "metadata": {
        "colab": {
          "base_uri": "https://localhost:8080/"
        },
        "id": "njMzD0XFIlwF",
        "outputId": "832023af-251d-42ec-d9d7-4227cc735b2f"
      },
      "execution_count": 6,
      "outputs": [
        {
          "output_type": "stream",
          "name": "stdout",
          "text": [
            "Enter The Size of the list: 3\n",
            "Enter The Item: 5\n",
            "Enter The Item: 2\n",
            "Enter The Item: 5\n",
            "The Multiplication of the list 50\n"
          ]
        }
      ]
    },
    {
      "cell_type": "code",
      "source": [
        "#Question4part1\n",
        "X=[]\n",
        "List_number=int(input(\"Enter The Size of the list: \"))\n",
        "for I in range(0,List_number):\n",
        " Z=int(input(\"Enter The Item: \"))\n",
        " X.append(Z)\n",
        "X.sort()\n",
        "print(\"The smallest number in the list is:\",X[0])"
      ],
      "metadata": {
        "colab": {
          "base_uri": "https://localhost:8080/"
        },
        "id": "8rtl0kidJYbQ",
        "outputId": "885b021b-3d56-402a-dc88-c47150729cb0"
      },
      "execution_count": 7,
      "outputs": [
        {
          "output_type": "stream",
          "name": "stdout",
          "text": [
            "Enter The Size of the list: 5\n",
            "Enter The Item: 10\n",
            "Enter The Item: 4\n",
            "Enter The Item: 43\n",
            "Enter The Item: 1\n",
            "Enter The Item: 7\n",
            "The smallest number in the list is: 1\n"
          ]
        }
      ]
    },
    {
      "cell_type": "code",
      "source": [
        "#Question5part1\n",
        "X=[]\n",
        "List_number=int(input(\"Enter The Size of the list: \"))\n",
        "for I in range(0,List_number):\n",
        " Z=int(input(\"Enter The Item: \"))\n",
        " X.append(Z)\n",
        "X.sort()\n",
        "print(\"The smallest number in the list is:\",X[List_number-1])"
      ],
      "metadata": {
        "colab": {
          "base_uri": "https://localhost:8080/"
        },
        "id": "1maoyQAMbGj2",
        "outputId": "ca736eb1-053d-4b94-b521-b76e2b05abe1"
      },
      "execution_count": 9,
      "outputs": [
        {
          "output_type": "stream",
          "name": "stdout",
          "text": [
            "Enter The Size of the list: 4\n",
            "Enter The Item: 5\n",
            "Enter The Item: 34\n",
            "Enter The Item: 189\n",
            "Enter The Item: 234\n",
            "The smallest number in the list is: 234\n"
          ]
        }
      ]
    },
    {
      "cell_type": "code",
      "source": [
        "#Question6part1\n",
        "def count_string(lst):\n",
        "  count=0\n",
        "  for element in lst:\n",
        "      if isinstance(element, str):\n",
        "        count += 1\n",
        "  return count\n",
        "\n",
        "string_list =['hello',123,'world',456,'python']\n",
        "print(\"number of strings in the list:\", count_string(string_list))\n",
        "\n"
      ],
      "metadata": {
        "colab": {
          "base_uri": "https://localhost:8080/"
        },
        "id": "zZ1KQFvGbYIl",
        "outputId": "150ae179-b03f-41dd-bc55-77d789ad2a51"
      },
      "execution_count": 16,
      "outputs": [
        {
          "output_type": "stream",
          "name": "stdout",
          "text": [
            "number of strings in the list: 3\n"
          ]
        }
      ]
    },
    {
      "cell_type": "code",
      "source": [
        "#Question7part1\n",
        "X=[]\n",
        "List_number=int(input(\"Enter The Size of the list: \"))\n",
        "for I in range(0,List_number):\n",
        " Z=input(\"Enter The Item: \")\n",
        " X.append(Z)\n",
        "print(\"original list :\",X)\n",
        "cloned=[]\n",
        "cloned.extend(X)\n",
        "print(\"copied list :\",cloned)"
      ],
      "metadata": {
        "colab": {
          "base_uri": "https://localhost:8080/"
        },
        "id": "DHCazBIJd3Xl",
        "outputId": "54964399-3683-43df-869b-7ae3f58ec521"
      },
      "execution_count": 18,
      "outputs": [
        {
          "output_type": "stream",
          "name": "stdout",
          "text": [
            "Enter The Size of the list: 3\n",
            "Enter The Item: man\n",
            "Enter The Item: cats \n",
            "Enter The Item: mouse\n",
            "original list : ['man', 'cats ', 'mouse']\n",
            "copied list : ['man', 'cats ', 'mouse']\n"
          ]
        }
      ]
    },
    {
      "cell_type": "code",
      "source": [
        "#Question8part1\n",
        "X=[]\n",
        "List_number=int(input(\"Enter The Size of the list: \"))\n",
        "for I in range(0,List_number):\n",
        " Z=input(\"Enter The Item: \")\n",
        " X.append(Z)\n",
        "X=set(X)\n",
        "print(X)\n",
        "Y=input(\"enter the item you want to remove\")\n",
        "X.remove(Y)\n",
        "print(X)\n",
        "\n"
      ],
      "metadata": {
        "colab": {
          "base_uri": "https://localhost:8080/"
        },
        "id": "lJxTo8fYiKRu",
        "outputId": "6a22d9fa-16a1-40af-95d0-87d56fc29712"
      },
      "execution_count": 22,
      "outputs": [
        {
          "output_type": "stream",
          "name": "stdout",
          "text": [
            "Enter The Size of the list: 3\n",
            "Enter The Item: man\n",
            "Enter The Item: cat\n",
            "Enter The Item: mouse\n",
            "enter the item you want to removecat\n",
            "{'mouse', 'man'}\n"
          ]
        }
      ]
    },
    {
      "cell_type": "code",
      "source": [
        "#Question9part1\n",
        "X1=[]\n",
        "X2=[]\n",
        "List_number1=int(input(\"Enter The Size of the set 1: \"))\n",
        "List_number2=int(input(\"Enter The Size of the set 2: \"))\n",
        "for I in range(0,List_number1):\n",
        " Z1=input(\"Enter The Item in list 1: \")\n",
        " X1.append(Z1)\n",
        "X1=set(X1)\n",
        "for I2 in range(0,List_number2):\n",
        " Z2=input(\"Enter The Item in list 2: \")\n",
        " X2.append(Z2)\n",
        "X2=set(X2)\n",
        "print(X1)\n",
        "print(X2)\n",
        "print(\"Is set1 a subset to set2 :\",X1.issubset(X2))"
      ],
      "metadata": {
        "colab": {
          "base_uri": "https://localhost:8080/"
        },
        "id": "sx0hn09bkzSv",
        "outputId": "6c3465c3-13e3-450c-aa1d-120c5d2e280f"
      },
      "execution_count": 24,
      "outputs": [
        {
          "output_type": "stream",
          "name": "stdout",
          "text": [
            "Enter The Size of the list: 3\n",
            "Enter The Size of the list: 4\n",
            "Enter The Item: man\n",
            "Enter The Item: cat\n",
            "Enter The Item: fat\n",
            "Enter The Item: man\n",
            "Enter The Item: cat\n",
            "Enter The Item: fat\n",
            "Enter The Item: rat\n",
            "{'fat', 'cat', 'man'}\n",
            "{'fat', 'cat', 'man', 'rat'}\n"
          ]
        },
        {
          "output_type": "execute_result",
          "data": {
            "text/plain": [
              "True"
            ]
          },
          "metadata": {},
          "execution_count": 24
        }
      ]
    },
    {
      "cell_type": "code",
      "source": [
        "#Question10part1\n",
        "X=[]\n",
        "List_number=int(input(\"Enter The Size of the set: \"))\n",
        "for I in range(0,List_number):\n",
        " Z=input(\"Enter The Item: \")\n",
        " X.append(Z)\n",
        "X=set(X)\n",
        "print(X)\n",
        "X.clear()\n",
        "print(X)"
      ],
      "metadata": {
        "colab": {
          "base_uri": "https://localhost:8080/"
        },
        "id": "1PcKXRUD98hZ",
        "outputId": "6649b218-390c-435b-ba4e-8066c594a996"
      },
      "execution_count": 25,
      "outputs": [
        {
          "output_type": "stream",
          "name": "stdout",
          "text": [
            "Enter The Size of the set: 4\n",
            "Enter The Item: tar\n",
            "Enter The Item: 3\n",
            "Enter The Item: s\n",
            "Enter The Item: f\n",
            "{'3', 'tar', 'f', 's'}\n",
            "set()\n"
          ]
        }
      ]
    },
    {
      "cell_type": "code",
      "source": [
        "#Question11part1\n",
        "X=[]\n",
        "List_number=int(input(\"Enter The Size of the set: \"))\n",
        "for I in range(0,List_number):\n",
        " Z=int(input(\"Enter The Number: \"))\n",
        " X.append(Z)\n",
        "X=set(X)\n",
        "Maximum=max(X)\n",
        "Minimum=min(X)\n",
        "print(\"The minimum number in the set is :\",Minimum)\n",
        "print(\"The maximum number in the set is :\",Maximum)"
      ],
      "metadata": {
        "colab": {
          "base_uri": "https://localhost:8080/"
        },
        "id": "UdPJs-AX-zVJ",
        "outputId": "3e48fb81-a9f8-4e08-a78e-124c6b63c94d"
      },
      "execution_count": 29,
      "outputs": [
        {
          "output_type": "stream",
          "name": "stdout",
          "text": [
            "Enter The Size of the set: 3\n",
            "Enter The Number: 5\n",
            "Enter The Number: 10\n",
            "Enter The Number: 1\n",
            "The minimum number in the set is : 1\n",
            "The maximum number in the set is : 10\n"
          ]
        }
      ]
    },
    {
      "cell_type": "code",
      "source": [
        "#Question12part1\n",
        "X=[]\n",
        "List_number=int(input(\"Enter The Size of the set: \"))\n",
        "for I in range(0,List_number):\n",
        " Z=input(\"Enter The item: \")\n",
        " X.append(Z)\n",
        "X=tuple(X)\n",
        "Item=input(\"Enter The item to find its index: \")\n",
        "index=X.index(Itemt)\n",
        "print(index)"
      ],
      "metadata": {
        "colab": {
          "base_uri": "https://localhost:8080/"
        },
        "id": "6tSPewWQAHxb",
        "outputId": "1d629ffa-1382-4199-edb0-df781b0adc6f"
      },
      "execution_count": 31,
      "outputs": [
        {
          "output_type": "stream",
          "name": "stdout",
          "text": [
            "Enter The Size of the set: 5\n",
            "Enter The item: r\n",
            "Enter The item: a\n",
            "Enter The item: t\n",
            "Enter The item: j\n",
            "Enter The item: k\n",
            "Enter The item to find its index: t\n",
            "2\n"
          ]
        }
      ]
    },
    {
      "cell_type": "code",
      "source": [
        "#Question13part1\n",
        "X=[]\n",
        "List_number=int(input(\"Enter The Size of the set: \"))\n",
        "for I in range(0,List_number):\n",
        " Z=input(\"Enter The key: \")\n",
        " Y=int(input(\"Enter The value: \"))\n",
        " lst=[Z,Y]\n",
        " X.append(lst)\n",
        "X=tuple(X)\n",
        "print(X)\n",
        "X=dict(X)\n",
        "print(X)"
      ],
      "metadata": {
        "colab": {
          "base_uri": "https://localhost:8080/"
        },
        "id": "1c1U23D7B-Bs",
        "outputId": "b6000e9e-73a6-4198-8ced-6251780a374f"
      },
      "execution_count": 38,
      "outputs": [
        {
          "output_type": "stream",
          "name": "stdout",
          "text": [
            "Enter The Size of the set: 2\n",
            "Enter The key: CAT\n",
            "Enter The value: 3\n",
            "Enter The key: RAT\n",
            "Enter The value: 5\n",
            "(['CAT', 3], ['RAT', 5])\n",
            "{'CAT': 3, 'RAT': 5}\n"
          ]
        }
      ]
    },
    {
      "cell_type": "code",
      "source": [
        "#Question14part1\n",
        "X=[]\n",
        "List_number=int(input(\"Enter The Size of the set: \"))\n",
        "for I in range(0,List_number):\n",
        " Z=input(\"Enter The key: \")\n",
        " Y=int(input(\"Enter The value: \"))\n",
        " lst=[Z,Y]\n",
        " X.append(lst)\n",
        "X=tuple(X)\n",
        "print(X)\n",
        "Unzip=list(zip(*X))\n",
        "print(Unzip)"
      ],
      "metadata": {
        "colab": {
          "base_uri": "https://localhost:8080/"
        },
        "id": "DtIUnn6jEdsy",
        "outputId": "3d43bf27-817c-42f1-ee6e-3796445f3beb"
      },
      "execution_count": 42,
      "outputs": [
        {
          "output_type": "stream",
          "name": "stdout",
          "text": [
            "Enter The Size of the set: 3\n",
            "Enter The key: 10\n",
            "Enter The value: 30\n",
            "Enter The key: 60\n",
            "Enter The value: 90\n",
            "Enter The key: 20\n",
            "Enter The value: 50\n",
            "(['10', 30], ['60', 90], ['20', 50])\n",
            "[('10', '60', '20'), (30, 90, 50)]\n"
          ]
        }
      ]
    },
    {
      "cell_type": "code",
      "source": [
        "#Question15part1\n",
        "X=[]\n",
        "List_number=int(input(\"Enter The Size of the set: \"))\n",
        "for I in range(0,List_number):\n",
        " Z=input(\"Enter The item: \")\n",
        " X.append(Z)\n",
        "X=tuple(X)\n",
        "print(X)\n",
        "X=list(X)\n",
        "X = list(reversed(X))\n",
        "X=tuple(X)\n",
        "print(X)\n",
        "\n",
        "\n",
        "\n"
      ],
      "metadata": {
        "colab": {
          "base_uri": "https://localhost:8080/"
        },
        "id": "OB9b76HaHMWj",
        "outputId": "b65216fb-9e19-4191-c064-cfdcb35a53de"
      },
      "execution_count": 53,
      "outputs": [
        {
          "output_type": "stream",
          "name": "stdout",
          "text": [
            "Enter The Size of the set: 3\n",
            "Enter The item: 3\n",
            "Enter The item: 4\n",
            "Enter The item: 5\n",
            "('3', '4', '5')\n",
            "('5', '4', '3')\n"
          ]
        }
      ]
    },
    {
      "cell_type": "code",
      "source": [
        "#Question16part1\n",
        "X=[]\n",
        "List_number=int(input(\"Enter The Size of the set: \"))\n",
        "for I in range(0,List_number):\n",
        " Z=input(\"Enter The key: \")\n",
        " Y=input(\"Enter The value: \")\n",
        " lst=(Z,Y)\n",
        " X.append(lst)\n",
        "print(X)\n",
        "dic = {}\n",
        "for A, B in X:\n",
        "    dic.setdefault(A, []).append(B)\n",
        "print(dic)"
      ],
      "metadata": {
        "colab": {
          "base_uri": "https://localhost:8080/"
        },
        "id": "wp5sb4TfK2ll",
        "outputId": "fb7747fe-900e-4d58-f740-af1c1486a30e"
      },
      "execution_count": 3,
      "outputs": [
        {
          "output_type": "stream",
          "name": "stdout",
          "text": [
            "Enter The Size of the set: 3\n",
            "Enter The key: yehia\n",
            "Enter The value: male\n",
            "Enter The key: khaled\n",
            "Enter The value: male\n",
            "Enter The key: amal\n",
            "Enter The value: female\n",
            "[('yehia', 'male'), ('khaled', 'male'), ('amal', 'female')]\n",
            "{'yehia': ['male'], 'khaled': ['male'], 'amal': ['female']}\n"
          ]
        }
      ]
    },
    {
      "cell_type": "code",
      "source": [
        "#Question17part1\n",
        "lst=[(10,20,40),(40, 50, 60),(70, 80, 90)]\n",
        "print([t[:-1] + (100,) for t in lst])"
      ],
      "metadata": {
        "colab": {
          "base_uri": "https://localhost:8080/"
        },
        "id": "2NYqVXWkRLq9",
        "outputId": "048b84a3-4585-4b1d-cb85-35afa2e37ae6"
      },
      "execution_count": 4,
      "outputs": [
        {
          "output_type": "stream",
          "name": "stdout",
          "text": [
            "[(10, 20, 100), (40, 50, 100), (70, 80, 100)]\n"
          ]
        }
      ]
    },
    {
      "cell_type": "code",
      "source": [
        "#Question18part1\n",
        "X=[]\n",
        "List_number=int(input(\"Enter The Size of the set: \"))\n",
        "for I in range(0,List_number):\n",
        " Z=input(\"Enter The key: \")\n",
        " Y=float(input(\"Enter The value: \"))\n",
        " lst=(Z,Y)\n",
        " X.append(lst)\n",
        "X2=sorted(X,key=lambda x :float(x[1]), reverse=True)\n",
        "print(X2)"
      ],
      "metadata": {
        "colab": {
          "base_uri": "https://localhost:8080/"
        },
        "id": "y3_CsK_yoonI",
        "outputId": "be429816-f6cd-4675-b4c0-00bd4867c30c"
      },
      "execution_count": 7,
      "outputs": [
        {
          "output_type": "stream",
          "name": "stdout",
          "text": [
            "Enter The Size of the set: 3\n",
            "Enter The key: A\n",
            "Enter The value: 3.2\n",
            "Enter The key: B\n",
            "Enter The value: 7.3\n",
            "Enter The key: C\n",
            "Enter The value: 1.4\n",
            "[('B', 7.3), ('A', 3.2), ('C', 1.4)]\n"
          ]
        }
      ]
    },
    {
      "cell_type": "markdown",
      "source": [],
      "metadata": {
        "id": "zarmOcnaig1u"
      }
    },
    {
      "cell_type": "code",
      "execution_count": null,
      "metadata": {
        "colab": {
          "base_uri": "https://localhost:8080/"
        },
        "id": "-lQGR_r0w6PD",
        "outputId": "3be05c41-3248-44c4-8342-23ecad89ebac"
      },
      "outputs": [
        {
          "output_type": "stream",
          "name": "stdout",
          "text": [
            "Enter The Number: 20\n",
            "Enter The Number: 20\n",
            "20 is the maximum number\n"
          ]
        }
      ],
      "source": [
        "#Question1part2\n",
        "X=int(input(\"Enter The Number: \"))\n",
        "Y=int(input(\"Enter The Number: \"))\n",
        "print(X,\"is the maximum number\") if X>Y else print(Y,\"is the maximum number\")"
      ]
    },
    {
      "cell_type": "code",
      "source": [
        "#Question2part2\n",
        "X=int(input(\"Enter The Number: \"))\n",
        "Y=int(input(\"Enter The Number: \"))\n",
        "Z=int(input(\"Enter The Number: \"))\n",
        "Maximum = max(X,Y,Z)\n",
        "print(\"The Maximum Number is\",Maximum)"
      ],
      "metadata": {
        "colab": {
          "base_uri": "https://localhost:8080/"
        },
        "id": "x7JF6i-s00qr",
        "outputId": "21f84be7-ac02-49fd-9685-db6a27b31fbe"
      },
      "execution_count": null,
      "outputs": [
        {
          "output_type": "stream",
          "name": "stdout",
          "text": [
            "Enter The Number: 20\n",
            "Enter The Number: 35\n",
            "Enter The Number: 15\n",
            "The Maximum Number is 35\n"
          ]
        }
      ]
    },
    {
      "cell_type": "code",
      "source": [
        "#Question3part2\n",
        "X=int(input(\"Enter The Number: \"))\n",
        "print(\"The Number is Zero\") if X==0 else print(\"The Number is Positive\") if X>0 else print(\"The Number is Negative\")"
      ],
      "metadata": {
        "colab": {
          "base_uri": "https://localhost:8080/"
        },
        "id": "HJ1i1km62WjL",
        "outputId": "781fc557-2577-4017-bb0c-1e519ac8ac78"
      },
      "execution_count": null,
      "outputs": [
        {
          "output_type": "stream",
          "name": "stdout",
          "text": [
            "Enter The Number: -520\n",
            "The Number is Negative\n"
          ]
        }
      ]
    },
    {
      "cell_type": "code",
      "source": [
        "#Question4part2\n",
        "X=int(input(\"Enter The Number: \"))\n",
        "print(\"The Number is Even\") if X%2==0 else print(\"The Number is Odd\")"
      ],
      "metadata": {
        "colab": {
          "base_uri": "https://localhost:8080/"
        },
        "id": "8zFHNdec4UzS",
        "outputId": "053e66ba-b1d2-482d-e2eb-a90377cc2b1c"
      },
      "execution_count": null,
      "outputs": [
        {
          "output_type": "stream",
          "name": "stdout",
          "text": [
            "Enter The Number: 3\n",
            "The Number is Odd\n"
          ]
        }
      ]
    },
    {
      "cell_type": "code",
      "source": [
        "#Question5part2\n",
        "X=int(input(\"Enter The Year: \"))\n",
        "print(X,\"is a leap year\") if (X%4==0 and X%100!=0 or(X%400==0)) else print(X,\"is not a leap year\")"
      ],
      "metadata": {
        "colab": {
          "base_uri": "https://localhost:8080/"
        },
        "id": "GPp9XWJR5Uwy",
        "outputId": "d2fef4d3-8f26-4b8e-dd56-ba22010498b5"
      },
      "execution_count": null,
      "outputs": [
        {
          "output_type": "stream",
          "name": "stdout",
          "text": [
            "Enter The Year: 2023\n",
            "2023 is not a leap year\n"
          ]
        }
      ]
    },
    {
      "cell_type": "code",
      "source": [
        "#Question6part2\n",
        "X =[\"Sunday\",\"Monday\",\"Tuesday\",\"Wednesday\",\"Thursday\",\"Friday\",\"Saturday\"]\n",
        "X_index=int(input(\"Enter The Index of the day you want: \"))\n",
        "if (X_index >= 0 and X_index <= 6):\n",
        "  print(X[X_index])\n",
        "else:\n",
        "  print(\"Invalid Index\")\n",
        "\n"
      ],
      "metadata": {
        "colab": {
          "base_uri": "https://localhost:8080/"
        },
        "id": "sTIUbHBC8TUj",
        "outputId": "e947c734-872a-45d8-b842-d4b4b7a0de24"
      },
      "execution_count": null,
      "outputs": [
        {
          "output_type": "stream",
          "name": "stdout",
          "text": [
            "Enter The Index of the day you want: 8\n",
            "Invalid index\n"
          ]
        }
      ]
    },
    {
      "cell_type": "code",
      "source": [
        "#Question7part2\n",
        "X = ['A','B','C','D','E','F','G','H','I','J','K','L','M','N','O','P','Q','R','S','T','U','V','W','X','Y','Z']\n",
        "I=0\n",
        "while I<26:\n",
        "  print(X[I])\n",
        "  I+=1\n",
        "\n"
      ],
      "metadata": {
        "colab": {
          "base_uri": "https://localhost:8080/"
        },
        "id": "KTIerquy-R35",
        "outputId": "63904d1e-78b8-4e9a-a9e9-874d78994b77"
      },
      "execution_count": null,
      "outputs": [
        {
          "output_type": "stream",
          "name": "stdout",
          "text": [
            "A\n",
            "B\n",
            "C\n",
            "D\n",
            "E\n",
            "F\n",
            "G\n",
            "H\n",
            "I\n",
            "J\n",
            "K\n",
            "L\n",
            "M\n",
            "N\n",
            "O\n",
            "P\n",
            "Q\n",
            "R\n",
            "S\n",
            "T\n",
            "U\n",
            "V\n",
            "W\n",
            "X\n",
            "Y\n",
            "Z\n"
          ]
        }
      ]
    },
    {
      "cell_type": "code",
      "source": [
        "#Question8part2\n",
        "X=[]\n",
        "X2=[]\n",
        "List_number=int(input(\"Enter The Size of the list: \"))\n",
        "for I in range(0,List_number):\n",
        " Y=int(input(\"Enter The Number: \"))\n",
        " String=str(Y)\n",
        " X.extend(String)\n",
        "print(X)\n",
        "I2=List_number\n",
        "while I2>0:\n",
        "  X2.extend(X[I2-1])\n",
        "  I2-=1\n",
        "print(X2)\n",
        "\n",
        "\n"
      ],
      "metadata": {
        "colab": {
          "base_uri": "https://localhost:8080/",
          "height": 356
        },
        "id": "F0HFUeFmAXpC",
        "outputId": "32772381-acb8-4466-f69b-aea0ac94ceb7"
      },
      "execution_count": 1,
      "outputs": [
        {
          "output_type": "error",
          "ename": "KeyboardInterrupt",
          "evalue": "Interrupted by user",
          "traceback": [
            "\u001b[0;31m---------------------------------------------------------------------------\u001b[0m",
            "\u001b[0;31mKeyboardInterrupt\u001b[0m                         Traceback (most recent call last)",
            "\u001b[0;32m<ipython-input-1-9eb7cc1201fe>\u001b[0m in \u001b[0;36m<cell line: 4>\u001b[0;34m()\u001b[0m\n\u001b[1;32m      2\u001b[0m \u001b[0mX\u001b[0m\u001b[0;34m=\u001b[0m\u001b[0;34m[\u001b[0m\u001b[0;34m]\u001b[0m\u001b[0;34m\u001b[0m\u001b[0;34m\u001b[0m\u001b[0m\n\u001b[1;32m      3\u001b[0m \u001b[0mX2\u001b[0m\u001b[0;34m=\u001b[0m\u001b[0;34m[\u001b[0m\u001b[0;34m]\u001b[0m\u001b[0;34m\u001b[0m\u001b[0;34m\u001b[0m\u001b[0m\n\u001b[0;32m----> 4\u001b[0;31m \u001b[0mList_number\u001b[0m\u001b[0;34m=\u001b[0m\u001b[0mint\u001b[0m\u001b[0;34m(\u001b[0m\u001b[0minput\u001b[0m\u001b[0;34m(\u001b[0m\u001b[0;34m\"Enter The Size of the list: \"\u001b[0m\u001b[0;34m)\u001b[0m\u001b[0;34m)\u001b[0m\u001b[0;34m\u001b[0m\u001b[0;34m\u001b[0m\u001b[0m\n\u001b[0m\u001b[1;32m      5\u001b[0m \u001b[0;32mfor\u001b[0m \u001b[0mI\u001b[0m \u001b[0;32min\u001b[0m \u001b[0mrange\u001b[0m\u001b[0;34m(\u001b[0m\u001b[0;36m0\u001b[0m\u001b[0;34m,\u001b[0m\u001b[0mList_number\u001b[0m\u001b[0;34m)\u001b[0m\u001b[0;34m:\u001b[0m\u001b[0;34m\u001b[0m\u001b[0;34m\u001b[0m\u001b[0m\n\u001b[1;32m      6\u001b[0m  \u001b[0mY\u001b[0m\u001b[0;34m=\u001b[0m\u001b[0mint\u001b[0m\u001b[0;34m(\u001b[0m\u001b[0minput\u001b[0m\u001b[0;34m(\u001b[0m\u001b[0;34m\"Enter The Number: \"\u001b[0m\u001b[0;34m)\u001b[0m\u001b[0;34m)\u001b[0m\u001b[0;34m\u001b[0m\u001b[0;34m\u001b[0m\u001b[0m\n",
            "\u001b[0;32m/usr/local/lib/python3.10/dist-packages/ipykernel/kernelbase.py\u001b[0m in \u001b[0;36mraw_input\u001b[0;34m(self, prompt)\u001b[0m\n\u001b[1;32m    849\u001b[0m                 \u001b[0;34m\"raw_input was called, but this frontend does not support input requests.\"\u001b[0m\u001b[0;34m\u001b[0m\u001b[0;34m\u001b[0m\u001b[0m\n\u001b[1;32m    850\u001b[0m             )\n\u001b[0;32m--> 851\u001b[0;31m         return self._input_request(str(prompt),\n\u001b[0m\u001b[1;32m    852\u001b[0m             \u001b[0mself\u001b[0m\u001b[0;34m.\u001b[0m\u001b[0m_parent_ident\u001b[0m\u001b[0;34m,\u001b[0m\u001b[0;34m\u001b[0m\u001b[0;34m\u001b[0m\u001b[0m\n\u001b[1;32m    853\u001b[0m             \u001b[0mself\u001b[0m\u001b[0;34m.\u001b[0m\u001b[0m_parent_header\u001b[0m\u001b[0;34m,\u001b[0m\u001b[0;34m\u001b[0m\u001b[0;34m\u001b[0m\u001b[0m\n",
            "\u001b[0;32m/usr/local/lib/python3.10/dist-packages/ipykernel/kernelbase.py\u001b[0m in \u001b[0;36m_input_request\u001b[0;34m(self, prompt, ident, parent, password)\u001b[0m\n\u001b[1;32m    893\u001b[0m             \u001b[0;32mexcept\u001b[0m \u001b[0mKeyboardInterrupt\u001b[0m\u001b[0;34m:\u001b[0m\u001b[0;34m\u001b[0m\u001b[0;34m\u001b[0m\u001b[0m\n\u001b[1;32m    894\u001b[0m                 \u001b[0;31m# re-raise KeyboardInterrupt, to truncate traceback\u001b[0m\u001b[0;34m\u001b[0m\u001b[0;34m\u001b[0m\u001b[0m\n\u001b[0;32m--> 895\u001b[0;31m                 \u001b[0;32mraise\u001b[0m \u001b[0mKeyboardInterrupt\u001b[0m\u001b[0;34m(\u001b[0m\u001b[0;34m\"Interrupted by user\"\u001b[0m\u001b[0;34m)\u001b[0m \u001b[0;32mfrom\u001b[0m \u001b[0;32mNone\u001b[0m\u001b[0;34m\u001b[0m\u001b[0;34m\u001b[0m\u001b[0m\n\u001b[0m\u001b[1;32m    896\u001b[0m             \u001b[0;32mexcept\u001b[0m \u001b[0mException\u001b[0m \u001b[0;32mas\u001b[0m \u001b[0me\u001b[0m\u001b[0;34m:\u001b[0m\u001b[0;34m\u001b[0m\u001b[0;34m\u001b[0m\u001b[0m\n\u001b[1;32m    897\u001b[0m                 \u001b[0mself\u001b[0m\u001b[0;34m.\u001b[0m\u001b[0mlog\u001b[0m\u001b[0;34m.\u001b[0m\u001b[0mwarning\u001b[0m\u001b[0;34m(\u001b[0m\u001b[0;34m\"Invalid Message:\"\u001b[0m\u001b[0;34m,\u001b[0m \u001b[0mexc_info\u001b[0m\u001b[0;34m=\u001b[0m\u001b[0;32mTrue\u001b[0m\u001b[0;34m)\u001b[0m\u001b[0;34m\u001b[0m\u001b[0;34m\u001b[0m\u001b[0m\n",
            "\u001b[0;31mKeyboardInterrupt\u001b[0m: Interrupted by user"
          ]
        }
      ]
    },
    {
      "cell_type": "code",
      "source": [
        "#Question9part2\n",
        "Number=int(input(\"Enter The Number: \"))\n",
        "Table_Size=int(input(\"Enter The Size of the Table: \"))\n",
        "I=1\n",
        "while I < Table_Size+1:\n",
        "  print(Number,\"X\",I,\"=\",Number*I)\n",
        "  I+=1\n"
      ],
      "metadata": {
        "colab": {
          "base_uri": "https://localhost:8080/"
        },
        "id": "MM3mcHwgPZTn",
        "outputId": "6c1b212e-e195-4367-d4bf-f29bd5465238"
      },
      "execution_count": null,
      "outputs": [
        {
          "output_type": "stream",
          "name": "stdout",
          "text": [
            "Enter The Number: 3\n",
            "Enter The Size of the Table: 10\n",
            "3 X 1 = 3\n",
            "3 X 2 = 6\n",
            "3 X 3 = 9\n",
            "3 X 4 = 12\n",
            "3 X 5 = 15\n",
            "3 X 6 = 18\n",
            "3 X 7 = 21\n",
            "3 X 8 = 24\n",
            "3 X 9 = 27\n",
            "3 X 10 = 30\n"
          ]
        }
      ]
    },
    {
      "cell_type": "code",
      "source": [
        "#Question10part2\n",
        "x=2\n",
        "while x<=100:\n",
        "  print(x)\n",
        "  x+=2"
      ],
      "metadata": {
        "colab": {
          "base_uri": "https://localhost:8080/"
        },
        "id": "8pP23CurRy2u",
        "outputId": "651ea7fa-f87d-4eba-851d-ca096e7b9928"
      },
      "execution_count": null,
      "outputs": [
        {
          "output_type": "stream",
          "name": "stdout",
          "text": [
            "2\n",
            "4\n",
            "6\n",
            "8\n",
            "10\n",
            "12\n",
            "14\n",
            "16\n",
            "18\n",
            "20\n",
            "22\n",
            "24\n",
            "26\n",
            "28\n",
            "30\n",
            "32\n",
            "34\n",
            "36\n",
            "38\n",
            "40\n",
            "42\n",
            "44\n",
            "46\n",
            "48\n",
            "50\n",
            "52\n",
            "54\n",
            "56\n",
            "58\n",
            "60\n",
            "62\n",
            "64\n",
            "66\n",
            "68\n",
            "70\n",
            "72\n",
            "74\n",
            "76\n",
            "78\n",
            "80\n",
            "82\n",
            "84\n",
            "86\n",
            "88\n",
            "90\n",
            "92\n",
            "94\n",
            "96\n",
            "98\n",
            "100\n"
          ]
        }
      ]
    }
  ]
}