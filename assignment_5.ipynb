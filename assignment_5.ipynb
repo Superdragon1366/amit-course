{
  "nbformat": 4,
  "nbformat_minor": 0,
  "metadata": {
    "colab": {
      "provenance": []
    },
    "kernelspec": {
      "name": "python3",
      "display_name": "Python 3"
    },
    "language_info": {
      "name": "python"
    }
  },
  "cells": [
    {
      "cell_type": "code",
      "execution_count": 8,
      "metadata": {
        "colab": {
          "base_uri": "https://localhost:8080/"
        },
        "id": "1LZfbd3SHNUu",
        "outputId": "7fb51982-6551-47b7-e45e-a0b9bd2322dc"
      },
      "outputs": [
        {
          "output_type": "stream",
          "name": "stdout",
          "text": [
            "length:  5\n",
            "width:  4\n",
            "perimeter:  18\n",
            "area:  20\n",
            "360\n"
          ]
        }
      ],
      "source": [
        "class rectangle():\n",
        "  def __init__(self,a,b):\n",
        "    self.a=a\n",
        "    self.b=b\n",
        "  def perimeter(self):\n",
        "    return 2*self.a+2*self.b\n",
        "  def area(self):\n",
        "    return self.a*self.b\n",
        "  def display(self):\n",
        "    print(\"length: \" ,self.a)\n",
        "    print(\"width: \",self.b)\n",
        "    print(\"perimeter: \",self.perimeter())\n",
        "    print(\"area: \",self.area())\n",
        "class parallelepipede(rectangle):\n",
        "  def __init__(self,a,b,c):\n",
        "    rectangle.__init__(self,a,b)\n",
        "    self.c=c\n",
        "  def volume(self):\n",
        "    return self.a*self.b*self.c\n",
        "x=rectangle(5,4)\n",
        "x.display()\n",
        "y=parallelepipede(8,5,9)\n",
        "print(\"volume: \"y.volume())"
      ]
    },
    {
      "cell_type": "code",
      "source": [
        "class person():\n",
        "  def __init__(self,a,b):\n",
        "    self.a=a\n",
        "    self.b=b\n",
        "  def display(self):\n",
        "    print(\"name: \" ,self.a)\n",
        "    print(\"age: \",self.b)\n",
        "class student(person):\n",
        "  def __init__(self,a,b,c):\n",
        "    person.__init__(self,a,b)\n",
        "    self.c=c\n",
        "  def displaystudent(self):\n",
        "    print(\"name: \" ,self.a)\n",
        "    print(\"age: \",self.b)\n",
        "    print(\"section: \",self.c)\n",
        "x1=person(\"ahmed\", \"98\")\n",
        "x1.display()\n",
        "x2=student(\"omar\",29,\"science\")\n",
        "x2.displaystudent()\n"
      ],
      "metadata": {
        "colab": {
          "base_uri": "https://localhost:8080/"
        },
        "id": "CHqYOVifP-5t",
        "outputId": "80a1b467-6852-4303-8db1-79cb8e058c21"
      },
      "execution_count": 9,
      "outputs": [
        {
          "output_type": "stream",
          "name": "stdout",
          "text": [
            "name:  ahmed\n",
            "age:  98\n",
            "name:  omar\n",
            "age:  29\n",
            "section:  science\n"
          ]
        }
      ]
    }
  ]
}