{
  "nbformat": 4,
  "nbformat_minor": 0,
  "metadata": {
    "colab": {
      "provenance": []
    },
    "kernelspec": {
      "name": "python3",
      "display_name": "Python 3"
    },
    "language_info": {
      "name": "python"
    }
  },
  "cells": [
    {
      "cell_type": "code",
      "execution_count": null,
      "metadata": {
        "id": "oDLA_7GLuOrS"
      },
      "outputs": [],
      "source": [
        "#Assignment3: Question1\n",
        "def recursion(x):\n",
        "  if x <= 1:\n",
        "        return x\n",
        "  else:\n",
        "        return recursion(x - 1) + recursion(x - 2)\n",
        "number=int(input())\n",
        "if number<=0:\n",
        "  print('please enter a positive integer')\n",
        "else:\n",
        "  for i in range(number):\n",
        "    print(recursion(i))"
      ]
    },
    {
      "cell_type": "code",
      "source": [
        "#Assignment3: Question2\n",
        "def word_count(words):\n",
        "    word_set = set(words)\n",
        "    word_counts = {}\n",
        "    for word in word_set:\n",
        "        word_counts[word] = words.count(word)\n",
        "    return word_counts\n",
        "X=[]\n",
        "List_number=int(input(\"Enter The Size of the set: \"))\n",
        "for I in range(0,List_number):\n",
        " Z=str(input(\"Enter The item: \"))\n",
        " X.append(Z)\n",
        "print(word_count(X))\n"
      ],
      "metadata": {
        "colab": {
          "base_uri": "https://localhost:8080/"
        },
        "id": "bCrOFQrGsKql",
        "outputId": "550d3022-af37-4070-9391-f358f7233042"
      },
      "execution_count": null,
      "outputs": [
        {
          "output_type": "stream",
          "name": "stdout",
          "text": [
            "Enter The Size of the set: 5\n",
            "Enter The item: red\n",
            "Enter The item: red\n",
            "Enter The item: blue\n",
            "Enter The item: green\n",
            "Enter The item: blue\n",
            "{'red': 2, 'green': 1, 'blue': 2}\n"
          ]
        }
      ]
    },
    {
      "cell_type": "code",
      "source": [
        "#Assignment3: Question3\n",
        "X=[]\n",
        "List_number=int(input(\"Enter The Size of the set: \"))\n",
        "sum=int(input(\"enter the sum: \",))\n",
        "for I in range(0,List_number):\n",
        " Z=int(input(\"Enter The number: \"))\n",
        " X.append(Z)\n",
        "def pair_sum_equal(lst,sum):\n",
        "  temp=[]\n",
        "  while lst:\n",
        "    number=lst.pop()\n",
        "    difference=sum-number\n",
        "    if difference in lst:\n",
        "      temp.append((difference, number))\n",
        "  temp.reverse()\n",
        "  return temp\n",
        "print(pair_sum_equal(X,sum))\n",
        "\n",
        "\n",
        "\n"
      ],
      "metadata": {
        "colab": {
          "base_uri": "https://localhost:8080/"
        },
        "id": "v6OegWUd94lH",
        "outputId": "20145161-1383-41da-df0e-9ee4d18bc6e8"
      },
      "execution_count": null,
      "outputs": [
        {
          "output_type": "stream",
          "name": "stdout",
          "text": [
            "Enter The Size of the set: 5\n",
            "enter the sum6\n",
            "Enter The number: 4\n",
            "Enter The number: 2\n",
            "Enter The number: 3\n",
            "Enter The number: 3\n",
            "Enter The number: 2\n",
            "[(4, 2), (3, 3), (4, 2)]\n"
          ]
        }
      ]
    },
    {
      "cell_type": "code",
      "source": [
        "#Assignment3: Question4\n",
        "def max_product(nums):\n",
        "    nums_set = set(nums)\n",
        "    max_product = float('-inf')\n",
        "    max_num1 = None\n",
        "    max_num2 = None\n",
        "    for n1 in nums_set:\n",
        "        for n2 in nums_set:\n",
        "            if n1 != n2 and n1 * n2 > max_product:\n",
        "                max_product = n1 * n2\n",
        "                max_num1 = n1\n",
        "                max_num2 = n2\n",
        "    return (max_num1, max_num2)\n",
        "X=[]\n",
        "List_number=int(input(\"Enter The Size of the set: \"))\n",
        "for I in range(0,List_number):\n",
        " Z=int(input(\"Enter The number: \"))\n",
        " X.append(Z)\n",
        "print(\"Maximum product of two numbers among all pairs in the said list:\",max_product(X))"
      ],
      "metadata": {
        "colab": {
          "base_uri": "https://localhost:8080/"
        },
        "id": "LICxyoKoMiYB",
        "outputId": "39065c77-aade-46d2-ef35-7b25bedd04b9"
      },
      "execution_count": null,
      "outputs": [
        {
          "output_type": "stream",
          "name": "stdout",
          "text": [
            "Enter The Size of the set: 5\n",
            "Enter The number: 3\n",
            "Enter The number: 5\n",
            "Enter The number: 2\n",
            "Enter The number: 5\n",
            "Enter The number: 6\n",
            "Maximum product of two numbers among all pairs in the said list: (5, 6)\n"
          ]
        }
      ]
    },
    {
      "cell_type": "code",
      "source": [
        "#Assignment3: Question5\n",
        "def prime(num):\n",
        "  i=num\n",
        "  isprime=True\n",
        "  if num == 1:\n",
        "    return(print(num,\"is not a prime number\"))\n",
        "  else:\n",
        "    while i>1:\n",
        "      if num==i:\n",
        "        i-=1\n",
        "      elif num%i==0:\n",
        "        isprime=False\n",
        "        i-=1\n",
        "      else:\n",
        "        i-=1\n",
        "  if isprime==True:\n",
        "    return(print(num,\"is a prime number\"))\n",
        "\n",
        "  else:\n",
        "    return(print(num,\"is not a prime number\"))\n",
        "X=int(input(\"enter the number: \"))\n",
        "prime(X)\n"
      ],
      "metadata": {
        "colab": {
          "base_uri": "https://localhost:8080/"
        },
        "id": "eUFPF0oMUNqm",
        "outputId": "6a0f15d4-6502-4cfb-84cf-cd1c26041d55"
      },
      "execution_count": null,
      "outputs": [
        {
          "output_type": "stream",
          "name": "stdout",
          "text": [
            "enter the number: 5\n",
            "5 is a prime number\n"
          ]
        }
      ]
    },
    {
      "cell_type": "code",
      "source": [
        "#Assignment3: Question6\n",
        "def even(lst):\n",
        "  for i in range(len(lst)):\n",
        "    if lst[i]%2==0:\n",
        "      print(lst[i])\n",
        "X=[]\n",
        "List_number=int(input(\"Enter The Size of the set: \"))\n",
        "for I in range(0,List_number):\n",
        " Z=int(input(\"Enter The item: \"))\n",
        " X.append(Z)\n",
        "even(X)\n",
        "\n"
      ],
      "metadata": {
        "colab": {
          "base_uri": "https://localhost:8080/"
        },
        "id": "GA9FDoK856t-",
        "outputId": "bdabd205-4495-4984-ee7d-2faee6e802d7"
      },
      "execution_count": null,
      "outputs": [
        {
          "output_type": "stream",
          "name": "stdout",
          "text": [
            "Enter The Size of the set: 5\n",
            "Enter The item: 2\n",
            "Enter The item: 5\n",
            "Enter The item: 8\n",
            "Enter The item: 19\n",
            "Enter The item: 250\n",
            "2\n",
            "8\n",
            "250\n"
          ]
        }
      ]
    },
    {
      "cell_type": "code",
      "source": [
        "#Assignment3: Question7\n",
        "def reverse_order(str):\n",
        "  sentence = str.split()\n",
        "  sentence.reverse()\n",
        "  return \" \".join(sentence)\n",
        "string=str(input())\n",
        "print(reverse_order(string))"
      ],
      "metadata": {
        "colab": {
          "base_uri": "https://localhost:8080/"
        },
        "id": "1H9J5KWE2ZVF",
        "outputId": "c800aa87-57ea-4620-e6b6-9abfd474642f"
      },
      "execution_count": null,
      "outputs": [
        {
          "output_type": "stream",
          "name": "stdout",
          "text": [
            "hello world\n",
            "world hello\n"
          ]
        }
      ]
    },
    {
      "cell_type": "code",
      "source": [
        "\n",
        "#Assignment3: Question8\n",
        "num=int(input())\n",
        "string=str(num)\n",
        "string=[*string]\n",
        "if (string == string[::-1]):\n",
        "  print(True)\n",
        "else:\n",
        "  print(False)\n"
      ],
      "metadata": {
        "colab": {
          "base_uri": "https://localhost:8080/"
        },
        "id": "KJ_MUP9o8nAB",
        "outputId": "959ac0bb-7437-4a8f-eaa4-1613750de0e8"
      },
      "execution_count": null,
      "outputs": [
        {
          "output_type": "stream",
          "name": "stdout",
          "text": [
            "-212\n",
            "False\n"
          ]
        }
      ]
    },
    {
      "cell_type": "code",
      "source": [
        "#Assignment3: Question9\n",
        "def palindrome(num):\n",
        "  string=str(num)\n",
        "  string=[*string]\n",
        "  if (string == string[::-1]):\n",
        "    print(True)\n",
        "  else:\n",
        "    print(False)\n",
        "number=int(input())\n",
        "palindrome(number)"
      ],
      "metadata": {
        "colab": {
          "base_uri": "https://localhost:8080/"
        },
        "id": "bRGWKV6FE4FF",
        "outputId": "627c62f3-d71c-4483-c70c-300360b70bb1"
      },
      "execution_count": null,
      "outputs": [
        {
          "output_type": "stream",
          "name": "stdout",
          "text": [
            "121\n",
            "True\n"
          ]
        }
      ]
    },
    {
      "cell_type": "code",
      "source": [
        "#Assignment3: Question10\n",
        "def square():\n",
        "  lst=[]\n",
        "  for i in range(1,30):\n",
        "    lst.append(i**2)\n",
        "  return lst\n",
        "print(square())\n",
        "\n"
      ],
      "metadata": {
        "colab": {
          "base_uri": "https://localhost:8080/"
        },
        "id": "SW_-IHtBHtyE",
        "outputId": "bbb178d6-ab9f-419e-ea35-642dc82696c9"
      },
      "execution_count": null,
      "outputs": [
        {
          "output_type": "stream",
          "name": "stdout",
          "text": [
            "[1, 4, 9, 16, 25, 36, 49, 64, 81, 100, 121, 144, 169, 196, 225, 256, 289, 324, 361, 400, 441, 484, 529, 576, 625, 676, 729, 784, 841]\n"
          ]
        }
      ]
    },
    {
      "cell_type": "code",
      "source": [
        "#Assignment3: Question11\n",
        "def permutations(lst):\n",
        "    if len(lst) == 0:\n",
        "        return []\n",
        "    if len(lst) == 1:\n",
        "        return [lst]\n",
        "    result = []\n",
        "    for i in range(len(lst)):\n",
        "        el = lst[i]\n",
        "        rest = lst[:i] + lst[i+1:]\n",
        "        for perm in permutations(rest):\n",
        "            result.append([el] + perm)\n",
        "    return result\n",
        "X=[]\n",
        "List_number=int(input(\"Enter The Size of the set: \"))\n",
        "for I in range(0,List_number):\n",
        " Z=int(input(\"Enter The item: \"))\n",
        " X.append(Z)\n",
        "permutations(X)"
      ],
      "metadata": {
        "colab": {
          "base_uri": "https://localhost:8080/"
        },
        "id": "-8mekPCtxLSh",
        "outputId": "f36ab05e-3313-4ebb-da8e-cd8ff84dec93"
      },
      "execution_count": null,
      "outputs": [
        {
          "name": "stdout",
          "output_type": "stream",
          "text": [
            "Enter The Size of the set: 5\n",
            "Enter The item: 1\n",
            "Enter The item: 2\n",
            "Enter The item: 3\n",
            "Enter The item: 4\n",
            "Enter The item: 5\n"
          ]
        },
        {
          "output_type": "execute_result",
          "data": {
            "text/plain": [
              "[[1, 2, 3, 4, 5],\n",
              " [1, 2, 3, 5, 4],\n",
              " [1, 2, 4, 3, 5],\n",
              " [1, 2, 4, 5, 3],\n",
              " [1, 2, 5, 3, 4],\n",
              " [1, 2, 5, 4, 3],\n",
              " [1, 3, 2, 4, 5],\n",
              " [1, 3, 2, 5, 4],\n",
              " [1, 3, 4, 2, 5],\n",
              " [1, 3, 4, 5, 2],\n",
              " [1, 3, 5, 2, 4],\n",
              " [1, 3, 5, 4, 2],\n",
              " [1, 4, 2, 3, 5],\n",
              " [1, 4, 2, 5, 3],\n",
              " [1, 4, 3, 2, 5],\n",
              " [1, 4, 3, 5, 2],\n",
              " [1, 4, 5, 2, 3],\n",
              " [1, 4, 5, 3, 2],\n",
              " [1, 5, 2, 3, 4],\n",
              " [1, 5, 2, 4, 3],\n",
              " [1, 5, 3, 2, 4],\n",
              " [1, 5, 3, 4, 2],\n",
              " [1, 5, 4, 2, 3],\n",
              " [1, 5, 4, 3, 2],\n",
              " [2, 1, 3, 4, 5],\n",
              " [2, 1, 3, 5, 4],\n",
              " [2, 1, 4, 3, 5],\n",
              " [2, 1, 4, 5, 3],\n",
              " [2, 1, 5, 3, 4],\n",
              " [2, 1, 5, 4, 3],\n",
              " [2, 3, 1, 4, 5],\n",
              " [2, 3, 1, 5, 4],\n",
              " [2, 3, 4, 1, 5],\n",
              " [2, 3, 4, 5, 1],\n",
              " [2, 3, 5, 1, 4],\n",
              " [2, 3, 5, 4, 1],\n",
              " [2, 4, 1, 3, 5],\n",
              " [2, 4, 1, 5, 3],\n",
              " [2, 4, 3, 1, 5],\n",
              " [2, 4, 3, 5, 1],\n",
              " [2, 4, 5, 1, 3],\n",
              " [2, 4, 5, 3, 1],\n",
              " [2, 5, 1, 3, 4],\n",
              " [2, 5, 1, 4, 3],\n",
              " [2, 5, 3, 1, 4],\n",
              " [2, 5, 3, 4, 1],\n",
              " [2, 5, 4, 1, 3],\n",
              " [2, 5, 4, 3, 1],\n",
              " [3, 1, 2, 4, 5],\n",
              " [3, 1, 2, 5, 4],\n",
              " [3, 1, 4, 2, 5],\n",
              " [3, 1, 4, 5, 2],\n",
              " [3, 1, 5, 2, 4],\n",
              " [3, 1, 5, 4, 2],\n",
              " [3, 2, 1, 4, 5],\n",
              " [3, 2, 1, 5, 4],\n",
              " [3, 2, 4, 1, 5],\n",
              " [3, 2, 4, 5, 1],\n",
              " [3, 2, 5, 1, 4],\n",
              " [3, 2, 5, 4, 1],\n",
              " [3, 4, 1, 2, 5],\n",
              " [3, 4, 1, 5, 2],\n",
              " [3, 4, 2, 1, 5],\n",
              " [3, 4, 2, 5, 1],\n",
              " [3, 4, 5, 1, 2],\n",
              " [3, 4, 5, 2, 1],\n",
              " [3, 5, 1, 2, 4],\n",
              " [3, 5, 1, 4, 2],\n",
              " [3, 5, 2, 1, 4],\n",
              " [3, 5, 2, 4, 1],\n",
              " [3, 5, 4, 1, 2],\n",
              " [3, 5, 4, 2, 1],\n",
              " [4, 1, 2, 3, 5],\n",
              " [4, 1, 2, 5, 3],\n",
              " [4, 1, 3, 2, 5],\n",
              " [4, 1, 3, 5, 2],\n",
              " [4, 1, 5, 2, 3],\n",
              " [4, 1, 5, 3, 2],\n",
              " [4, 2, 1, 3, 5],\n",
              " [4, 2, 1, 5, 3],\n",
              " [4, 2, 3, 1, 5],\n",
              " [4, 2, 3, 5, 1],\n",
              " [4, 2, 5, 1, 3],\n",
              " [4, 2, 5, 3, 1],\n",
              " [4, 3, 1, 2, 5],\n",
              " [4, 3, 1, 5, 2],\n",
              " [4, 3, 2, 1, 5],\n",
              " [4, 3, 2, 5, 1],\n",
              " [4, 3, 5, 1, 2],\n",
              " [4, 3, 5, 2, 1],\n",
              " [4, 5, 1, 2, 3],\n",
              " [4, 5, 1, 3, 2],\n",
              " [4, 5, 2, 1, 3],\n",
              " [4, 5, 2, 3, 1],\n",
              " [4, 5, 3, 1, 2],\n",
              " [4, 5, 3, 2, 1],\n",
              " [5, 1, 2, 3, 4],\n",
              " [5, 1, 2, 4, 3],\n",
              " [5, 1, 3, 2, 4],\n",
              " [5, 1, 3, 4, 2],\n",
              " [5, 1, 4, 2, 3],\n",
              " [5, 1, 4, 3, 2],\n",
              " [5, 2, 1, 3, 4],\n",
              " [5, 2, 1, 4, 3],\n",
              " [5, 2, 3, 1, 4],\n",
              " [5, 2, 3, 4, 1],\n",
              " [5, 2, 4, 1, 3],\n",
              " [5, 2, 4, 3, 1],\n",
              " [5, 3, 1, 2, 4],\n",
              " [5, 3, 1, 4, 2],\n",
              " [5, 3, 2, 1, 4],\n",
              " [5, 3, 2, 4, 1],\n",
              " [5, 3, 4, 1, 2],\n",
              " [5, 3, 4, 2, 1],\n",
              " [5, 4, 1, 2, 3],\n",
              " [5, 4, 1, 3, 2],\n",
              " [5, 4, 2, 1, 3],\n",
              " [5, 4, 2, 3, 1],\n",
              " [5, 4, 3, 1, 2],\n",
              " [5, 4, 3, 2, 1]]"
            ]
          },
          "metadata": {},
          "execution_count": 2
        }
      ]
    },
    {
      "cell_type": "code",
      "source": [
        "#Assignment3: Question12\n",
        "def function(a,b):\n",
        "  def adder(a,b):\n",
        "    print(a+b)\n",
        "  adder(a,b)\n",
        "x=3\n",
        "y=4\n",
        "function(x,y)"
      ],
      "metadata": {
        "colab": {
          "base_uri": "https://localhost:8080/"
        },
        "id": "fgbijT2U3RJ8",
        "outputId": "f6998543-487e-4cf2-f81f-1f8b99e6a569"
      },
      "execution_count": 5,
      "outputs": [
        {
          "output_type": "stream",
          "name": "stdout",
          "text": [
            "7\n"
          ]
        }
      ]
    }
  ]
}